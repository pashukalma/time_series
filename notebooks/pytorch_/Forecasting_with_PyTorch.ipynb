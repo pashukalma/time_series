{
  "nbformat": 4,
  "nbformat_minor": 0,
  "metadata": {
    "colab": {
      "provenance": []
    },
    "kernelspec": {
      "name": "python3",
      "display_name": "Python 3"
    },
    "language_info": {
      "name": "python"
    }
  },
  "cells": [
    {
      "cell_type": "code",
      "source": [
        "import torch\n",
        "from torch.utils.data import DataLoader\n",
        "import torch\n",
        "import plotly\n",
        "import plotly.express as px\n",
        "import plotly.graph_objs as graph_obj\n",
        "import matplotlib\n",
        "from matplotlib import pyplot as plt\n",
        "import torch.nn as nn\n",
        "import numpy as np\n",
        "import pandas as pd\n",
        "import os\n",
        "\n",
        "np.random.seed(42)\n",
        "\n",
        "from collections import namedtuple\n",
        "from rich.table import Table\n",
        "\n",
        "device = 'cuda' if torch.cuda.is_available() else 'cpu'\n",
        "torch.__version__, torchvision.__version__, torchaudio.__version__,"
      ],
      "metadata": {
        "colab": {
          "base_uri": "https://localhost:8080/"
        },
        "id": "vILW4LzxtJzf",
        "outputId": "6ac3776b-0b16-4694-ad2d-265df8e41966"
      },
      "execution_count": null,
      "outputs": [
        {
          "output_type": "execute_result",
          "data": {
            "text/plain": [
              "('2.6.0+cu124', '0.21.0+cu124', '2.6.0+cu124')"
            ]
          },
          "metadata": {},
          "execution_count": 8
        }
      ]
    },
    {
      "cell_type": "markdown",
      "source": [
        "Building Blocks with PyTorch"
      ],
      "metadata": {
        "id": "OMzKbvnXvmUd"
      }
    },
    {
      "cell_type": "code",
      "source": [
        "''' generate a random time series '''\n",
        "df = pd.DataFrame({'date': pd.date_range(periods=20, start='2024-01-01', freq='D'),\n",
        "    'ts': np.random.randn(20) })\n",
        "df.plot(x='date', y='ts', figsize=(4, 2))"
      ],
      "metadata": {
        "colab": {
          "base_uri": "https://localhost:8080/",
          "height": 284
        },
        "id": "_Jm8fTittJ3D",
        "outputId": "03aba4d5-d3c9-4515-f46e-9b0279d8992a"
      },
      "execution_count": null,
      "outputs": [
        {
          "output_type": "execute_result",
          "data": {
            "text/plain": [
              "<Axes: xlabel='date'>"
            ]
          },
          "metadata": {},
          "execution_count": 51
        },
        {
          "output_type": "display_data",
          "data": {
            "text/plain": [
              "<Figure size 400x200 with 1 Axes>"
            ],
            "image/png": "[encoded data removed]"
          },
          "metadata": {}
        }
      ]
    },
    {
      "cell_type": "code",
      "source": [
        "ts = torch.from_numpy(df.ts.values).float()\n",
        "ts,"
      ],
      "metadata": {
        "colab": {
          "base_uri": "https://localhost:8080/"
        },
        "id": "WSjEFk2btJ8Y",
        "outputId": "b6accd7b-3758-420b-8f71-1338a06ba8c6"
      },
      "execution_count": null,
      "outputs": [
        {
          "output_type": "execute_result",
          "data": {
            "text/plain": [
              "(tensor([-0.4792, -0.1857, -1.1063, -1.1962,  0.8125,  1.3562, -0.0720,  1.0035,\n",
              "          0.3616, -0.6451,  0.3614,  1.5380, -0.0358,  1.5646, -2.6197,  0.8219,\n",
              "          0.0870, -0.2990,  0.0918, -1.9876]),)"
            ]
          },
          "metadata": {},
          "execution_count": 18
        }
      ]
    },
    {
      "cell_type": "code",
      "source": [
        "''' create windows over dataset for batch training'''\n",
        "window_size = 15\n",
        "ts_ds = ts.unfold(dimension=0, size=window_size, step=1)\n",
        "ts_ds[:], ts_ds.shape"
      ],
      "metadata": {
        "colab": {
          "base_uri": "https://localhost:8080/"
        },
        "id": "RWwEEQLWtKCa",
        "outputId": "1de62782-fff2-4aba-da15-ebf191d5c4c1"
      },
      "execution_count": null,
      "outputs": [
        {
          "output_type": "execute_result",
          "data": {
            "text/plain": [
              "(tensor([[-0.4792, -0.1857, -1.1063, -1.1962,  0.8125,  1.3562, -0.0720,  1.0035,\n",
              "           0.3616, -0.6451,  0.3614,  1.5380, -0.0358,  1.5646, -2.6197],\n",
              "         [-0.1857, -1.1063, -1.1962,  0.8125,  1.3562, -0.0720,  1.0035,  0.3616,\n",
              "          -0.6451,  0.3614,  1.5380, -0.0358,  1.5646, -2.6197,  0.8219],\n",
              "         [-1.1063, -1.1962,  0.8125,  1.3562, -0.0720,  1.0035,  0.3616, -0.6451,\n",
              "           0.3614,  1.5380, -0.0358,  1.5646, -2.6197,  0.8219,  0.0870],\n",
              "         [-1.1962,  0.8125,  1.3562, -0.0720,  1.0035,  0.3616, -0.6451,  0.3614,\n",
              "           1.5380, -0.0358,  1.5646, -2.6197,  0.8219,  0.0870, -0.2990],\n",
              "         [ 0.8125,  1.3562, -0.0720,  1.0035,  0.3616, -0.6451,  0.3614,  1.5380,\n",
              "          -0.0358,  1.5646, -2.6197,  0.8219,  0.0870, -0.2990,  0.0918],\n",
              "         [ 1.3562, -0.0720,  1.0035,  0.3616, -0.6451,  0.3614,  1.5380, -0.0358,\n",
              "           1.5646, -2.6197,  0.8219,  0.0870, -0.2990,  0.0918, -1.9876]]),\n",
              " torch.Size([6, 15]))"
            ]
          },
          "metadata": {},
          "execution_count": 26
        }
      ]
    },
    {
      "cell_type": "code",
      "source": [
        "''' feed forward network architecture\n",
        "window[window-input] >> 64 (hidden layer 1) >> 32 (hidden layer 2) >> 1 (output) '''\n",
        "FFNetwork = nn.Sequential(\n",
        "    nn.Linear(in_features=window_size, out_features=64), # batch-size * window\n",
        "    nn.ReLU(),\n",
        "    nn.Linear(in_features=64, out_features=32),\n",
        "    nn.ReLU(),\n",
        "    nn.Linear(in_features=32, out_features=32),\n",
        "    nn.ReLU(),\n",
        "    nn.Linear(in_features=32, out_features=1)\n",
        ")\n",
        "ts_ds.shape, FFNetwork(ts_ds).shape,  FFNetwork.forward(ts_ds),"
      ],
      "metadata": {
        "colab": {
          "base_uri": "https://localhost:8080/"
        },
        "id": "lVZfZ_ixxbOC",
        "outputId": "6419ed1e-e57c-4b66-9b98-1b7cea9f058e"
      },
      "execution_count": null,
      "outputs": [
        {
          "output_type": "execute_result",
          "data": {
            "text/plain": [
              "(torch.Size([6, 15]),\n",
              " torch.Size([6, 1]),\n",
              " tensor([[0.1030],\n",
              "         [0.0950],\n",
              "         [0.0646],\n",
              "         [0.0876],\n",
              "         [0.1093],\n",
              "         [0.1590]], grad_fn=<AddmmBackward0>))"
            ]
          },
          "metadata": {},
          "execution_count": 40
        }
      ]
    },
    {
      "cell_type": "code",
      "source": [
        "table = Table(title='FFNetwork Architecture', show_lines=False)\n",
        "table.add_column('Layer', justify='center')\n",
        "#table.add_column('Input', justify='left')\n",
        "#table.add_column('Output', justify='left')\n",
        "table.add_column('Shape')\n",
        "x = ts_ds\n",
        "table.add_row('Input', str(x.shape))\n",
        "for layer in FFNetwork:\n",
        "    x = layer(x)\n",
        "    table.add_row(str(layer), str(x.shape))\n",
        "table"
      ],
      "metadata": {
        "colab": {
          "base_uri": "https://localhost:8080/",
          "height": 232
        },
        "id": "JUE1Sg6NxbRe",
        "outputId": "c2fb1e28-35cb-4b17-c78f-1d538f57f043"
      },
      "execution_count": null,
      "outputs": [
        {
          "output_type": "execute_result",
          "data": {
            "text/plain": [
              "\u001b[3m                           FFNetwork Architecture                           \u001b[0m\n",
              "┏━━━━━━━━━━━━━━━━━━━━━━━━━━━━━━━━━━━━━━━━━━━━━━━━━━━━┳━━━━━━━━━━━━━━━━━━━━━┓\n",
              "┃\u001b[1m \u001b[0m\u001b[1m                      Layer                       \u001b[0m\u001b[1m \u001b[0m┃\u001b[1m \u001b[0m\u001b[1mShape              \u001b[0m\u001b[1m \u001b[0m┃\n",
              "┡━━━━━━━━━━━━━━━━━━━━━━━━━━━━━━━━━━━━━━━━━━━━━━━━━━━━╇━━━━━━━━━━━━━━━━━━━━━┩\n",
              "│                       Input                        │ torch.Size([6, 15]) │\n",
              "│ Linear(in_features=15, out_features=64, bias=True) │ torch.Size([6, 64]) │\n",
              "│                       ReLU()                       │ torch.Size([6, 64]) │\n",
              "│ Linear(in_features=64, out_features=32, bias=True) │ torch.Size([6, 32]) │\n",
              "│                       ReLU()                       │ torch.Size([6, 32]) │\n",
              "│ Linear(in_features=32, out_features=32, bias=True) │ torch.Size([6, 32]) │\n",
              "│                       ReLU()                       │ torch.Size([6, 32]) │\n",
              "│ Linear(in_features=32, out_features=1, bias=True)  │ torch.Size([6, 1])  │\n",
              "└────────────────────────────────────────────────────┴─────────────────────┘\n"
            ],
            "text/html": [
              "<pre style=\"white-space:pre;overflow-x:auto;line-height:normal;font-family:Menlo,'DejaVu Sans Mono',consolas,'Courier New',monospace\"><span style=\"font-style: italic\">                           FFNetwork Architecture                           </span>\n",
              "┏━━━━━━━━━━━━━━━━━━━━━━━━━━━━━━━━━━━━━━━━━━━━━━━━━━━━┳━━━━━━━━━━━━━━━━━━━━━┓\n",
              "┃<span style=\"font-weight: bold\">                       Layer                        </span>┃<span style=\"font-weight: bold\"> Shape               </span>┃\n",
              "┡━━━━━━━━━━━━━━━━━━━━━━━━━━━━━━━━━━━━━━━━━━━━━━━━━━━━╇━━━━━━━━━━━━━━━━━━━━━┩\n",
              "│                       Input                        │ torch.Size([6, 15]) │\n",
              "│ Linear(in_features=15, out_features=64, bias=True) │ torch.Size([6, 64]) │\n",
              "│                       ReLU()                       │ torch.Size([6, 64]) │\n",
              "│ Linear(in_features=64, out_features=32, bias=True) │ torch.Size([6, 32]) │\n",
              "│                       ReLU()                       │ torch.Size([6, 32]) │\n",
              "│ Linear(in_features=32, out_features=32, bias=True) │ torch.Size([6, 32]) │\n",
              "│                       ReLU()                       │ torch.Size([6, 32]) │\n",
              "│ Linear(in_features=32, out_features=1, bias=True)  │ torch.Size([6, 1])  │\n",
              "└────────────────────────────────────────────────────┴─────────────────────┘\n",
              "</pre>\n"
            ]
          },
          "metadata": {},
          "execution_count": 74
        }
      ]
    },
    {
      "cell_type": "code",
      "source": [
        "''' RNN with a 3-d tensor '''\n",
        "rnn_input = ts_ds.unsqueeze(-1)\n",
        "rnn = nn.RNN(input_size =1, hidden_size=32, num_layers=1,\n",
        "             batch_first=True, dropout =0, bidirectional=False)\n",
        "rnn_output, rnn_hidden_states = rnn(rnn_input)\n",
        "rnn_input.shape, rnn_output.shape, rnn_hidden_states.shape"
      ],
      "metadata": {
        "colab": {
          "base_uri": "https://localhost:8080/"
        },
        "id": "I0m7LKRkxbVQ",
        "outputId": "9e2d57e6-7250-4716-96d7-5e262f191989"
      },
      "execution_count": null,
      "outputs": [
        {
          "output_type": "execute_result",
          "data": {
            "text/plain": [
              "(torch.Size([6, 15, 1]), torch.Size([6, 15, 32]), torch.Size([1, 6, 32]))"
            ]
          },
          "metadata": {},
          "execution_count": 44
        }
      ]
    },
    {
      "cell_type": "code",
      "source": [
        "torch.equal(rnn_hidden_states[0], rnn_output[:,-1])"
      ],
      "metadata": {
        "colab": {
          "base_uri": "https://localhost:8080/"
        },
        "id": "0F4kuDoQxbYO",
        "outputId": "ccfa22c4-926e-4574-bd0c-a1f5351043af"
      },
      "execution_count": null,
      "outputs": [
        {
          "output_type": "execute_result",
          "data": {
            "text/plain": [
              "True"
            ]
          },
          "metadata": {},
          "execution_count": 49
        }
      ]
    },
    {
      "cell_type": "code",
      "source": [
        "rnn_hidden_states[0,0], rnn_output[0, -1]"
      ],
      "metadata": {
        "colab": {
          "base_uri": "https://localhost:8080/"
        },
        "id": "7z6vBkO3tKDx",
        "outputId": "df99b04d-b92a-426f-bd99-0c98a8661cc6"
      },
      "execution_count": null,
      "outputs": [
        {
          "output_type": "execute_result",
          "data": {
            "text/plain": [
              "(tensor([-0.1335,  0.2728, -0.1351, -0.5358, -0.2039,  0.2231, -0.2882, -0.2034,\n",
              "         -0.3253, -0.3942,  0.0744,  0.2331, -0.4755, -0.2925,  0.0512,  0.0801,\n",
              "         -0.0150, -0.1077,  0.1538, -0.1572, -0.2553, -0.2470, -0.0319, -0.2209,\n",
              "         -0.3211, -0.1371,  0.1243, -0.1181, -0.1812, -0.2835,  0.3579, -0.4368],\n",
              "        grad_fn=<SelectBackward0>),\n",
              " tensor([-0.1335,  0.2728, -0.1351, -0.5358, -0.2039,  0.2231, -0.2882, -0.2034,\n",
              "         -0.3253, -0.3942,  0.0744,  0.2331, -0.4755, -0.2925,  0.0512,  0.0801,\n",
              "         -0.0150, -0.1077,  0.1538, -0.1572, -0.2553, -0.2470, -0.0319, -0.2209,\n",
              "         -0.3211, -0.1371,  0.1243, -0.1181, -0.1812, -0.2835,  0.3579, -0.4368],\n",
              "        grad_fn=<SelectBackward0>))"
            ]
          },
          "metadata": {},
          "execution_count": 54
        }
      ]
    },
    {
      "cell_type": "code",
      "source": [
        "''' bi-directional stacked RNN '''\n",
        "bi_rnn = nn.RNN(input_size =1, hidden_size=32, num_layers=5,\n",
        "                batch_first=True, dropout =0, bidirectional=True)\n",
        "bi_rnn_output, bi_rnn_hidden_states = bi_rnn(rnn_input)\n",
        "bi_rnn_output.shape, bi_rnn_hidden_states.shape"
      ],
      "metadata": {
        "colab": {
          "base_uri": "https://localhost:8080/"
        },
        "id": "ZJhla6pZ2iJM",
        "outputId": "7baee427-9c5e-4d98-ee98-6f88414457d8"
      },
      "execution_count": null,
      "outputs": [
        {
          "output_type": "execute_result",
          "data": {
            "text/plain": [
              "(torch.Size([6, 15, 64]), torch.Size([10, 6, 32]))"
            ]
          },
          "metadata": {},
          "execution_count": 55
        }
      ]
    },
    {
      "cell_type": "code",
      "source": [
        "''' LSTM '''\n",
        "lstm = nn.LSTM(input_size =1, hidden_size=32, num_layers=5, batch_first=True,\n",
        "    dropout =0, bidirectional=False)\n",
        "lstm_output, lstm_hidden_states = lstm(rnn_input)\n",
        "#lstm_output, (hidden_states, cell_states) = lstm(rnn_input)\n",
        "lstm_output.shape, lstm_hidden_states[0].shape, lstm_hidden_states[1].shape"
      ],
      "metadata": {
        "colab": {
          "base_uri": "https://localhost:8080/"
        },
        "id": "H9uUYK-Z2iMf",
        "outputId": "ee3ee533-4374-4e80-ee64-7e6e80465925"
      },
      "execution_count": null,
      "outputs": [
        {
          "output_type": "execute_result",
          "data": {
            "text/plain": [
              "(torch.Size([6, 15, 32]), torch.Size([5, 6, 32]), torch.Size([5, 6, 32]))"
            ]
          },
          "metadata": {},
          "execution_count": 59
        }
      ]
    },
    {
      "cell_type": "code",
      "source": [
        "lstm_output[0,-1], lstm_hidden_states[0][-1, 0,: ]"
      ],
      "metadata": {
        "colab": {
          "base_uri": "https://localhost:8080/"
        },
        "id": "qegWsmyF4R_i",
        "outputId": "144e0792-e0c4-4c4b-c632-1a108dfd59db"
      },
      "execution_count": null,
      "outputs": [
        {
          "output_type": "execute_result",
          "data": {
            "text/plain": [
              "(tensor([-0.0063,  0.0504,  0.0468,  0.1205,  0.1131,  0.1581, -0.0481,  0.0322,\n",
              "         -0.0075, -0.0428,  0.1058, -0.0936,  0.0091, -0.0301,  0.0455,  0.0264,\n",
              "          0.0255, -0.0548,  0.0048, -0.0612, -0.0247, -0.0624, -0.0262,  0.0769,\n",
              "          0.0163, -0.0293,  0.0850, -0.0818, -0.1546, -0.1052, -0.1514,  0.0428],\n",
              "        grad_fn=<SelectBackward0>),\n",
              " tensor([-0.0063,  0.0504,  0.0468,  0.1205,  0.1131,  0.1581, -0.0481,  0.0322,\n",
              "         -0.0075, -0.0428,  0.1058, -0.0936,  0.0091, -0.0301,  0.0455,  0.0264,\n",
              "          0.0255, -0.0548,  0.0048, -0.0612, -0.0247, -0.0624, -0.0262,  0.0769,\n",
              "          0.0163, -0.0293,  0.0850, -0.0818, -0.1546, -0.1052, -0.1514,  0.0428],\n",
              "        grad_fn=<SliceBackward0>))"
            ]
          },
          "metadata": {},
          "execution_count": 63
        }
      ]
    },
    {
      "cell_type": "code",
      "source": [
        "''' GRU '''\n",
        "gru = nn.GRU(input_size =1, hidden_size=32, num_layers=5, batch_first=True, dropout =0) #bidirectional=True\n",
        "gru_output, gru_hidden_states = gru(rnn_input)\n",
        "gru_output.shape, gru_hidden_states.shape"
      ],
      "metadata": {
        "colab": {
          "base_uri": "https://localhost:8080/"
        },
        "id": "A_-Fj46b4SIV",
        "outputId": "fcfb1134-5fcf-43db-f50b-b9e35bd4f637"
      },
      "execution_count": null,
      "outputs": [
        {
          "output_type": "execute_result",
          "data": {
            "text/plain": [
              "(torch.Size([6, 15, 32]), torch.Size([5, 6, 32]))"
            ]
          },
          "metadata": {},
          "execution_count": 65
        }
      ]
    },
    {
      "cell_type": "code",
      "source": [
        "torch.equal(gru_hidden_states[-1], gru_output[:,-1])"
      ],
      "metadata": {
        "colab": {
          "base_uri": "https://localhost:8080/"
        },
        "id": "eR8tmKaS4SMT",
        "outputId": "bebde197-3b2d-44e9-8b66-e1fc5b0e3bb1"
      },
      "execution_count": null,
      "outputs": [
        {
          "output_type": "execute_result",
          "data": {
            "text/plain": [
              "True"
            ]
          },
          "metadata": {},
          "execution_count": 67
        }
      ]
    },
    {
      "cell_type": "code",
      "source": [
        "gru_output[0,-1]"
      ],
      "metadata": {
        "colab": {
          "base_uri": "https://localhost:8080/"
        },
        "id": "lpKlCkCf4SQ9",
        "outputId": "563bba57-c83c-49e1-f354-455356c77efe"
      },
      "execution_count": null,
      "outputs": [
        {
          "output_type": "execute_result",
          "data": {
            "text/plain": [
              "tensor([-0.0385,  0.0210,  0.0090,  0.1078,  0.2333, -0.2788,  0.2588,  0.0701,\n",
              "        -0.3339, -0.1666,  0.0829, -0.1145, -0.0011, -0.3281, -0.0212,  0.2290,\n",
              "        -0.1761,  0.0141,  0.3155,  0.1769, -0.0570,  0.0716,  0.1074,  0.3084,\n",
              "         0.2191,  0.2078, -0.1920, -0.1043,  0.1492, -0.3656,  0.0753,  0.2056],\n",
              "       grad_fn=<SelectBackward0>)"
            ]
          },
          "metadata": {},
          "execution_count": 69
        }
      ]
    },
    {
      "cell_type": "code",
      "source": [
        "gru_hidden_states[-1, 0:][:2]"
      ],
      "metadata": {
        "colab": {
          "base_uri": "https://localhost:8080/"
        },
        "id": "3IgPENzi4Smj",
        "outputId": "b83a9fed-7222-4623-8db2-d38338e8066c"
      },
      "execution_count": null,
      "outputs": [
        {
          "output_type": "execute_result",
          "data": {
            "text/plain": [
              "tensor([[-0.0385,  0.0210,  0.0090,  0.1078,  0.2333, -0.2788,  0.2588,  0.0701,\n",
              "         -0.3339, -0.1666,  0.0829, -0.1145, -0.0011, -0.3281, -0.0212,  0.2290,\n",
              "         -0.1761,  0.0141,  0.3155,  0.1769, -0.0570,  0.0716,  0.1074,  0.3084,\n",
              "          0.2191,  0.2078, -0.1920, -0.1043,  0.1492, -0.3656,  0.0753,  0.2056],\n",
              "        [-0.0391,  0.0215,  0.0088,  0.1078,  0.2338, -0.2787,  0.2592,  0.0691,\n",
              "         -0.3353, -0.1662,  0.0829, -0.1134, -0.0015, -0.3278, -0.0206,  0.2288,\n",
              "         -0.1752,  0.0138,  0.3160,  0.1755, -0.0566,  0.0713,  0.1079,  0.3092,\n",
              "          0.2189,  0.2082, -0.1920, -0.1035,  0.1497, -0.3655,  0.0759,  0.2045]],\n",
              "       grad_fn=<SliceBackward0>)"
            ]
          },
          "metadata": {},
          "execution_count": 73
        }
      ]
    },
    {
      "cell_type": "code",
      "source": [
        "''' CNN with a 3-D input (batch, channels-features, seq) '''\n",
        "cnn_input = ts_ds.unsqueeze(1)\n",
        "k = 3\n",
        "cnn_con = nn.Conv1d(in_channels=1, out_channels=1, kernel_size=k)\n",
        "cnn_output = cnn_con(cnn_input)\n",
        "assert cnn_output.size(-1)==cnn_input.size(-1)-k+1\n",
        "cnn_input.shape, cnn_output.shape"
      ],
      "metadata": {
        "colab": {
          "base_uri": "https://localhost:8080/"
        },
        "id": "-l9ZPb3e4TBc",
        "outputId": "a72c6864-59dc-461e-8f06-729c34426433"
      },
      "execution_count": null,
      "outputs": [
        {
          "output_type": "execute_result",
          "data": {
            "text/plain": [
              "(torch.Size([6, 1, 15]), torch.Size([6, 1, 13]))"
            ]
          },
          "metadata": {},
          "execution_count": 72
        }
      ]
    },
    {
      "cell_type": "code",
      "source": [
        "''' effect of stride and dilation on output '''\n",
        "exp_ = namedtuple('experiment', ['k', 's', 'd'])\n",
        "experiment_list = [exp_(k=3, s=1, d=1), exp_(k=5, s=1, d=2), exp_(k=3, s=2, d=1),\n",
        "  exp_(k=3, s=1, d=2), exp_(k=3, s=2, d=2), exp_(k=5, s=2, d=2), ]\n",
        "table = Table(title='CNN Experiment', show_lines=False)\n",
        "table.add_column('Kernel Size', justify='center')\n",
        "table.add_column('Stride', justify='left')\n",
        "table.add_column('Dilation', justify='left')\n",
        "table.add_column('Input Seq Len', justify='center')\n",
        "table.add_column('Padding Required', justify='left')\n",
        "table.add_column('Output', justify='left')\n",
        "\n",
        "b, c, l = cnn_input.size()\n",
        "for exp in experiment_list:\n",
        "  padding = exp.d*(exp.k-1) + cnn_input.size(-1) * (exp.s -1) - (exp.s -1)\n",
        "  padding_input = torch.nn.functional.pad(cnn_input, pad=(padding, 0))\n",
        "  cnn_conv = nn.Conv1d(\n",
        "    in_channels=1, out_channels=1, kernel_size=exp.k, stride=exp.s, dilation=exp.d)\n",
        "  cnn_output = cnn_conv(padding_input)\n",
        "  assert cnn_output.size(-1) == cnn_input.size(-1)\n",
        "  table.add_row(str(exp.k), str(exp.s), str(exp.d), str(l), str(padding), str(cnn_output.size(-1)))\n",
        "table"
      ],
      "metadata": {
        "colab": {
          "base_uri": "https://localhost:8080/",
          "height": 199
        },
        "id": "y20kZ-iQ5w9V",
        "outputId": "48ad486f-dd8b-4507-822e-b00e58f97e39"
      },
      "execution_count": null,
      "outputs": [
        {
          "output_type": "execute_result",
          "data": {
            "text/plain": [
              "\u001b[3m                                CNN Experiment                                 \u001b[0m\n",
              "┏━━━━━━━━━━━━━┳━━━━━━━━┳━━━━━━━━━━┳━━━━━━━━━━━━━━━┳━━━━━━━━━━━━━━━━━━┳━━━━━━━━┓\n",
              "┃\u001b[1m \u001b[0m\u001b[1mKernel Size\u001b[0m\u001b[1m \u001b[0m┃\u001b[1m \u001b[0m\u001b[1mStride\u001b[0m\u001b[1m \u001b[0m┃\u001b[1m \u001b[0m\u001b[1mDilation\u001b[0m\u001b[1m \u001b[0m┃\u001b[1m \u001b[0m\u001b[1mInput Seq Len\u001b[0m\u001b[1m \u001b[0m┃\u001b[1m \u001b[0m\u001b[1mPadding Required\u001b[0m\u001b[1m \u001b[0m┃\u001b[1m \u001b[0m\u001b[1mOutput\u001b[0m\u001b[1m \u001b[0m┃\n",
              "┡━━━━━━━━━━━━━╇━━━━━━━━╇━━━━━━━━━━╇━━━━━━━━━━━━━━━╇━━━━━━━━━━━━━━━━━━╇━━━━━━━━┩\n",
              "│      3      │ 1      │ 1        │      15       │ 2                │ 15     │\n",
              "│      5      │ 1      │ 2        │      15       │ 8                │ 15     │\n",
              "│      3      │ 2      │ 1        │      15       │ 16               │ 15     │\n",
              "│      3      │ 1      │ 2        │      15       │ 4                │ 15     │\n",
              "│      3      │ 2      │ 2        │      15       │ 18               │ 15     │\n",
              "│      5      │ 2      │ 2        │      15       │ 22               │ 15     │\n",
              "└─────────────┴────────┴──────────┴───────────────┴──────────────────┴────────┘\n"
            ],
            "text/html": [
              "<pre style=\"white-space:pre;overflow-x:auto;line-height:normal;font-family:Menlo,'DejaVu Sans Mono',consolas,'Courier New',monospace\"><span style=\"font-style: italic\">                                CNN Experiment                                 </span>\n",
              "┏━━━━━━━━━━━━━┳━━━━━━━━┳━━━━━━━━━━┳━━━━━━━━━━━━━━━┳━━━━━━━━━━━━━━━━━━┳━━━━━━━━┓\n",
              "┃<span style=\"font-weight: bold\"> Kernel Size </span>┃<span style=\"font-weight: bold\"> Stride </span>┃<span style=\"font-weight: bold\"> Dilation </span>┃<span style=\"font-weight: bold\"> Input Seq Len </span>┃<span style=\"font-weight: bold\"> Padding Required </span>┃<span style=\"font-weight: bold\"> Output </span>┃\n",
              "┡━━━━━━━━━━━━━╇━━━━━━━━╇━━━━━━━━━━╇━━━━━━━━━━━━━━━╇━━━━━━━━━━━━━━━━━━╇━━━━━━━━┩\n",
              "│      3      │ 1      │ 1        │      15       │ 2                │ 15     │\n",
              "│      5      │ 1      │ 2        │      15       │ 8                │ 15     │\n",
              "│      3      │ 2      │ 1        │      15       │ 16               │ 15     │\n",
              "│      3      │ 1      │ 2        │      15       │ 4                │ 15     │\n",
              "│      3      │ 2      │ 2        │      15       │ 18               │ 15     │\n",
              "│      5      │ 2      │ 2        │      15       │ 22               │ 15     │\n",
              "└─────────────┴────────┴──────────┴───────────────┴──────────────────┴────────┘\n",
              "</pre>\n"
            ]
          },
          "metadata": {},
          "execution_count": 84
        }
      ]
    },
    {
      "cell_type": "code",
      "source": [
        "''' Padding to keep the dimensions the same '''"
      ],
      "metadata": {
        "id": "7hhy3rri5xAw"
      },
      "execution_count": null,
      "outputs": []
    },
    {
      "cell_type": "code",
      "source": [
        "''' Convolutions with equal weights in a rolling mean '''\n",
        "conv = nn.Conv1d(in_channels=1, out_channels=1, kernel_size=3, bias=False)\n",
        "conv, \\\n",
        "conv.weight, conv.weight.data.shape, \\\n",
        "conv.bias"
      ],
      "metadata": {
        "colab": {
          "base_uri": "https://localhost:8080/"
        },
        "id": "Lqu6E5Qx5xEa",
        "outputId": "334e1ed7-c774-4ca2-a493-c02fe4208925"
      },
      "execution_count": null,
      "outputs": [
        {
          "output_type": "execute_result",
          "data": {
            "text/plain": [
              "(Conv1d(1, 1, kernel_size=(3,), stride=(1,), bias=False),\n",
              " Parameter containing:\n",
              " tensor([[[-0.1024,  0.2707,  0.3655]]], requires_grad=True),\n",
              " torch.Size([1, 1, 3]),\n",
              " None)"
            ]
          },
          "metadata": {},
          "execution_count": 109
        }
      ]
    },
    {
      "cell_type": "code",
      "source": [
        "''' assign kernel weights with uniform distribution '''\n",
        "conv.weight.data = torch.tensor([1/3, 1/3, 1/3]).unsqueeze(0).unsqueeze(0)\n",
        "''' creating a tensor with artificial time series '''\n",
        "ser_ = torch.from_numpy(df.ts.values.astype('float32'))\n",
        "out = conv(ser_.unsqueeze(0).unsqueeze(0))\n",
        "out, out.shape, \\\n",
        "out.squeeze(), out.squeeze().shape"
      ],
      "metadata": {
        "colab": {
          "base_uri": "https://localhost:8080/"
        },
        "id": "pNrkqBGe_Vf-",
        "outputId": "68abd50a-53bd-425d-ded5-cc42f9424ea6"
      },
      "execution_count": null,
      "outputs": [
        {
          "output_type": "execute_result",
          "data": {
            "text/plain": [
              "(tensor([[[-0.7262, -0.5219, -0.4354, -0.1865,  0.7097,  0.8216,  0.7728,\n",
              "            0.1192, -0.5786, -0.6732, -0.6284,  0.8323,  0.7770,  0.8575,\n",
              "            0.0248, -0.3006, -0.0202,  0.2420]]],\n",
              "        grad_fn=<ConvolutionBackward0>),\n",
              " torch.Size([1, 1, 18]),\n",
              " tensor([-0.7262, -0.5219, -0.4354, -0.1865,  0.7097,  0.8216,  0.7728,  0.1192,\n",
              "         -0.5786, -0.6732, -0.6284,  0.8323,  0.7770,  0.8575,  0.0248, -0.3006,\n",
              "         -0.0202,  0.2420], grad_fn=<SqueezeBackward0>),\n",
              " torch.Size([18]))"
            ]
          },
          "metadata": {},
          "execution_count": 110
        }
      ]
    },
    {
      "cell_type": "code",
      "source": [
        "''' calculate the rolling mean over n - (k-1) '''\n",
        "rolling_means = [ser_[i: i+3].mean() for i in range(len(ser_)-2)]\n",
        "rolling_means[:3], len(rolling_means)"
      ],
      "metadata": {
        "colab": {
          "base_uri": "https://localhost:8080/"
        },
        "id": "dyrBfoH4_VrZ",
        "outputId": "f1886cf3-8548-4927-80dc-0979915b5307"
      },
      "execution_count": null,
      "outputs": [
        {
          "output_type": "execute_result",
          "data": {
            "text/plain": [
              "([tensor(-0.7262), tensor(-0.5219), tensor(-0.4354)], 18)"
            ]
          },
          "metadata": {},
          "execution_count": 111
        }
      ]
    },
    {
      "cell_type": "code",
      "source": [
        "''' concatenate all into a tensor and check equality '''\n",
        "rolling_means = torch.cat([t.unsqueeze(0) for t in rolling_means])\n",
        "torch.allclose(rolling_means, out)"
      ],
      "metadata": {
        "colab": {
          "base_uri": "https://localhost:8080/"
        },
        "id": "qnwCov9j_Vvj",
        "outputId": "086d147d-77a2-4b19-c181-e60d165b7049"
      },
      "execution_count": null,
      "outputs": [
        {
          "output_type": "execute_result",
          "data": {
            "text/plain": [
              "True"
            ]
          },
          "metadata": {},
          "execution_count": 113
        }
      ]
    }
  ]
}